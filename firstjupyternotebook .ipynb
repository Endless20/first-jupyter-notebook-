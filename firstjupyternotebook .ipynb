{
  "metadata": {
    "language_info": {
      "codemirror_mode": {
        "name": "python",
        "version": 3
      },
      "file_extension": ".py",
      "mimetype": "text/x-python",
      "name": "python",
      "nbconvert_exporter": "python",
      "pygments_lexer": "ipython3",
      "version": "3.8"
    },
    "kernelspec": {
      "name": "python",
      "display_name": "Python (Pyodide)",
      "language": "python"
    }
  },
  "nbformat_minor": 4,
  "nbformat": 4,
  "cells": [
    {
      "cell_type": "markdown",
      "source": "#  My Jupyter Notebook on IBM Watson Studio",
      "metadata": {}
    },
    {
      "cell_type": "markdown",
      "source": "<b> Ananta kale </b> <br>\n    Data Scientist ",
      "metadata": {}
    },
    {
      "cell_type": "markdown",
      "source": "<i>I am interested in data science because this field is growing rapidly and i like to be part of it </i>\n    ",
      "metadata": {}
    },
    {
      "cell_type": "markdown",
      "source": "<h3> Simple Arithmatic operation </h3>",
      "metadata": {}
    },
    {
      "cell_type": "code",
      "source": "(9+10)*60",
      "metadata": {
        "trusted": true
      },
      "execution_count": 1,
      "outputs": [
        {
          "execution_count": 1,
          "output_type": "execute_result",
          "data": {
            "text/plain": "1140"
          },
          "metadata": {}
        }
      ]
    },
    {
      "cell_type": "markdown",
      "source": "<hr> Horizontal rule </hr> <br>\n\n1. one \n2. two\n3. three <br>\n- one \n- two \n- three",
      "metadata": {}
    }
  ]
}